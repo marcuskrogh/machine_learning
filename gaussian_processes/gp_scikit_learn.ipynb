{
 "cells": [
  {
   "cell_type": "code",
   "execution_count": 17,
   "metadata": {},
   "outputs": [],
   "source": [
    "from cvxopt import matrix, spmatrix, sin, sqrt, log\n",
    "import gp\n",
    "\n",
    "from sklearn.gaussian_process         import GaussianProcessRegressor\n",
    "from sklearn.gaussian_process.kernels import RBF"
   ]
  },
  {
   "cell_type": "code",
   "execution_count": null,
   "metadata": {},
   "outputs": [],
   "source": []
  },
  {
   "cell_type": "code",
   "execution_count": 28,
   "metadata": {},
   "outputs": [],
   "source": [
    "## Data generation function\n",
    "generate_data = gp.data.generate_data\n",
    "\n",
    "## Define boundaries and grid\n",
    "xmin   = -5\n",
    "xmax   = 5\n",
    "N      = 100\n",
    "outfun = lambda x: sin(x)\n",
    "noise  = 1e-5\n",
    "\n",
    "## Generate data\n",
    "X, Y, Y_true = generate_data( xmin, xmax, N, outfun, noise )"
   ]
  },
  {
   "cell_type": "code",
   "execution_count": null,
   "metadata": {},
   "outputs": [],
   "source": []
  },
  {
   "cell_type": "code",
   "execution_count": 34,
   "metadata": {},
   "outputs": [
    {
     "name": "stderr",
     "output_type": "stream",
     "text": [
      "/anaconda3/lib/python3.6/site-packages/sklearn/gaussian_process/gpr.py:457: UserWarning: fmin_l_bfgs_b terminated abnormally with the  state: {'grad': array([0.]), 'task': b'ERROR: NO FEASIBLE SOLUTION', 'funcalls': 0, 'nit': 0, 'warnflag': 2}\n",
      "  \" state: %s\" % convergence_dict)\n"
     ]
    },
    {
     "data": {
      "text/plain": [
       "GaussianProcessRegressor(alpha=1e-10, copy_X_train=True,\n",
       "             kernel=RBF(length_scale=1), n_restarts_optimizer=3,\n",
       "             normalize_y=False, optimizer='fmin_l_bfgs_b',\n",
       "             random_state=None)"
      ]
     },
     "execution_count": 34,
     "metadata": {},
     "output_type": "execute_result"
    }
   ],
   "source": [
    "kernel = RBF( length_scale=1.0, length_scale_bounds=(1e-1, 1e-3) )\n",
    "m = GaussianProcessRegressor( kernel=kernel, n_restarts_optimizer=3 )\n",
    "m.fit(X,Y)\n",
    "#y_pred, sigma_pred = 1.0, 1.0"
   ]
  },
  {
   "cell_type": "code",
   "execution_count": null,
   "metadata": {},
   "outputs": [],
   "source": []
  }
 ],
 "metadata": {
  "kernelspec": {
   "display_name": "Python 3",
   "language": "python",
   "name": "python3"
  },
  "language_info": {
   "codemirror_mode": {
    "name": "ipython",
    "version": 3
   },
   "file_extension": ".py",
   "mimetype": "text/x-python",
   "name": "python",
   "nbconvert_exporter": "python",
   "pygments_lexer": "ipython3",
   "version": "3.6.4"
  }
 },
 "nbformat": 4,
 "nbformat_minor": 2
}
